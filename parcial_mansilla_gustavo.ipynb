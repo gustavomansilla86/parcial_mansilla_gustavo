{
 "cells": [
  {
   "cell_type": "markdown",
   "metadata": {},
   "source": [
    "1. ¿Cómo se define una función en Python?\n",
    "se define de la siguiente forma def Nombre_de_la_funcion():\n",
    "\n",
    "2. Explica la diferencia entre parámetros y argumentos en una función.\n",
    "Parámetros son las variables de la función. \n",
    "Argumentos son los valores que le pasamos a la función\n",
    "3. ¿Cómo se accede a un elemento específico en una lista?\n",
    "se puede acceder mediante la funcion lista.index()\n",
    "\n",
    "4.  Menciona al menos tres conceptos vinculados a la programación orientada a objetos.\n",
    "Clases, objetos y herencia.\n",
    "\n",
    "5.  ¿Cuál de las siguientes opciones describe mejor el concepto de herencia?\n",
    "   - A. La capacidad de una clase para heredar propiedades y comportamientos de otra clase.\n",
    "   es la correcta A\n",
    "   - B. La agrupación de datos y métodos en una estructura de código.\n",
    "   - C. La capacidad de una clase para ocultar sus detalles internos.\n",
    "   - D. La creación de múltiples instancias de una clase.\n",
    "6. ¿Qué tipo de objeto es un método?\n",
    "   - A. Función.\n",
    "   es la correcta A\n",
    "   - B. Clase.\n",
    "   - C. Entero.\n",
    "7. ¿Qué es la superclase de una clase?\n",
    "\n",
    "- A. La clase de la que es una instancia\n",
    "- B. La clase de la que hereda\n",
    "- C. La primera clase que hereda de ella\n",
    "es la correcta la C\n",
    "8. ¿Qué es el manejo de excepciones en Python y por qué es importante? Proporciona un ejemplo de cómo manejar una excepción en Python.\n",
    "El manejo de excepciones es importante porque permite al programador poder en tener un mejor entendimiento de algun error ya ocurrido anteriormente y asi tener mejor manejo del codigo\n",
    "\n",
    "9. ¿Qué es una excepción de tipo IndexError y cuándo puede ocurrir en Python?\n",
    "es un erro en el cual aparece cuando intentamos acceder a un elemento de un a lista y no se encuentra en ella\n",
    "\n",
    "10. ¿Cuál es la diferencia entre una función y un método en Python?\n",
    "funcion es un bloque de codigo que es reutilizable y el metodo es basicamente lo mismo solo es que estos se encuentran dentro de una clase u objeto\n"
   ]
  },
  {
   "cell_type": "markdown",
   "metadata": {},
   "source": [
    "Ejercicio N° 1:\n",
    "Imagina que estás desarrollando un programa para una máquina expendedora de bebidas. Implementar un programa que solicite al usuario seleccionar una opción y muestre el precio correspondiente de la bebida seleccionada.\n",
    "\n",
    "Implementa una solución que cumpla con los siguientes requisitos:\n",
    "\n",
    "Muestra al usuario un menú con las siguientes opciones de bebidas:\n",
    "\n",
    "Opción 1:Coca-Cola - Precio:  2.50\n",
    "Opción 2:Sprite−Precio: 2.00\n",
    "Opción 3:Fanta - Precio: $1.75 \n",
    "Solicita al usuario que seleccione una opción ingresando el número correspondiente.\n",
    "Verificar la opción seleccionada por el usuario y mostrar por pantalla el precio correspondiente.\n",
    "\n",
    "Si el usuario selecciona una opción inválida, mostrar un mensaje de error."
   ]
  },
  {
   "cell_type": "code",
   "execution_count": 70,
   "metadata": {},
   "outputs": [
    {
     "name": "stdout",
     "output_type": "stream",
     "text": [
      "¿qué bebida desea retirar?\n",
      "1. Coca cola\n",
      "precio: $2.50\n",
      "\n",
      "2. sprite\n",
      "precio: $2.00\n",
      "\n",
      "3. fanta\n",
      "precio: $1.75\n",
      "\n",
      "ERROR EN EL NUMERO DE BEBIDA\n"
     ]
    }
   ],
   "source": [
    "def expendedor():\n",
    "        \n",
    "        print(\"¿qué bebida desea retirar?\")\n",
    "        print(\"1. Coca cola\")\n",
    "        print(\"precio: $2.50\")\n",
    "        print(\"\")\n",
    "        print(\"2. sprite\")\n",
    "        print(\"precio: $2.00\")\n",
    "        print(\"\")\n",
    "        print(\"3. fanta\")\n",
    "        print(\"precio: $1.75\")\n",
    "        print(\"\")\n",
    "        elecion = int(input(\"inserte el número de bebida que desea: \"))\n",
    "        if elecion == 1:\n",
    "            print(\"seleccionó una coca cola\")\n",
    "        elif elecion == 2:\n",
    "            print(\"seleccionó un sprite\")\n",
    "        elif elecion == 3:\n",
    "           print(\"seleccionó una fanta\")\n",
    "        else:\n",
    "             print(\"ERROR EN EL NUMERO DE BEBIDA\")\n",
    "expendedor()\n"
   ]
  },
  {
   "cell_type": "markdown",
   "metadata": {},
   "source": [
    "<u>Ejercicio N° 2 : </u>  \n",
    "Imagina que estás creando un programa para una biblioteca que gestiona la información de los libros que tiene disponibles. Tu tarea es implementar un sistema de gestión de libros que permita a los usuarios realizar consultas y obtener información sobre los libros.   \n",
    "Utilizando los conceptos de Programación Orientada a Objetos, implementa una solución que cumpla con los siguientes requisitos:\n",
    "1.\tCrea una clase llamada Libro que tenga los siguientes atributos:\n",
    "    + titulo: una cadena que representa el título del libro.\n",
    "\t+ autor: una cadena que indica el autor del libro.\n",
    "\t+ precio: un número decimal que indica el precio del libro.\n",
    "\t+ disponible: un valor booleano que indica si el libro está disponible para préstamo.\n",
    "2.\tLa clase Libro debe tener los siguientes métodos:\n",
    "\t+ informacion(): muestra por pantalla la información del libro, incluyendo el título, autor y precio.\n",
    "\t+ prestar(): cambia el estado del libro a no disponible.\n",
    "\t+ devolver(): cambia el estado del libro a disponible.\n",
    "3.\tCrea una clase derivada llamada LibroFisico que herede de la clase Libro. La clase LibroFisico tiene un atributo adicional:\n",
    "\t+ ubicacion: una cadena que indica la ubicación física del libro en la biblioteca.\n",
    "4.\tSobrescribe el método informacion() en la clase LibroFisico para incluir la ubicación física del libro al mostrar la información.\n",
    "\n"
   ]
  },
  {
   "cell_type": "code",
   "execution_count": 62,
   "metadata": {},
   "outputs": [],
   "source": [
    "class Libro:\n",
    "    def __init__(self, titulo, autor, precio,disponible):\n",
    "        self.titulo = titulo\n",
    "        self.autor = autor\n",
    "        self.precio = precio\n",
    "        self.disponible = disponible\n",
    "    \n",
    "    def informacion(self):\n",
    "       estado = \"disponible\" if self.disponible else \"prestado\"\n",
    "       print(f\"El libro {self.titulo} de {self.autor} cuesta ${self.precio} y se encuentra {estado}\")\n",
    "    def prestar(self):\n",
    "        if self.disponible == True:\n",
    "            self.disponible = False\n",
    "        else:\n",
    "           print(\"El libro no está disponible\")\n",
    "    def devolver(self):\n",
    "        if self.disponible == False:\n",
    "            self.disponible = True\n",
    "        else:\n",
    "         print(\"El libro ya está disponible\")\n",
    "        \n",
    "class LibroFisico(Libro):\n",
    "    def __init__(self, titulo, autor, precio, disponible, ubicacion):\n",
    "        super().__init__(titulo, autor, precio, disponible)\n",
    "        self.ubicacion = ubicacion\n",
    "    def informacion(self):\n",
    "        estado = \"disponible\" if self.disponible else \"prestado\"\n",
    "        print(f\"El libro {self.titulo} de {self.autor} cuesta ${self.precio} y se encuentra {estado} su ubicacion es {self.ubicacion}\")"
   ]
  },
  {
   "cell_type": "code",
   "execution_count": 54,
   "metadata": {},
   "outputs": [],
   "source": [
    "libro1=Libros(\"padre rico padre pobre\",\"stiven\",25000,\"disponible\")\n",
    "libro2=LibroFisico(\"el principito\",\"prime\",30000,\"disponible\",\"estanteria A-10-10\")"
   ]
  },
  {
   "cell_type": "code",
   "execution_count": 56,
   "metadata": {},
   "outputs": [
    {
     "name": "stdout",
     "output_type": "stream",
     "text": [
      "El libro el principito de prime cuesta $30000 y se encuentra disponible su ubicacion es estanteria A-10-10\n"
     ]
    }
   ],
   "source": [
    "libro2.informacion()\n"
   ]
  },
  {
   "cell_type": "code",
   "execution_count": 63,
   "metadata": {},
   "outputs": [
    {
     "name": "stdout",
     "output_type": "stream",
     "text": [
      "El libro no está disponible\n",
      "El libro padre rico padre pobre de stiven cuesta $25000 y se encuentra disponible\n",
      "El libro no está disponible\n",
      "El libro el principito de prime cuesta $30000 y se encuentra disponible su ubicacion es estanteria A-10-10\n"
     ]
    }
   ],
   "source": [
    "libro1.prestar()\n",
    "libro1.informacion()\n",
    "libro2.prestar()\n",
    "libro2.informacion()\n"
   ]
  },
  {
   "cell_type": "code",
   "execution_count": 64,
   "metadata": {},
   "outputs": [
    {
     "name": "stdout",
     "output_type": "stream",
     "text": [
      "El libro ya está disponible\n",
      "El libro padre rico padre pobre de stiven cuesta $25000 y se encuentra disponible\n"
     ]
    }
   ],
   "source": [
    "libro1.devolver()\n",
    "libro1.informacion()"
   ]
  }
 ],
 "metadata": {
  "kernelspec": {
   "display_name": "Python 3",
   "language": "python",
   "name": "python3"
  },
  "language_info": {
   "codemirror_mode": {
    "name": "ipython",
    "version": 3
   },
   "file_extension": ".py",
   "mimetype": "text/x-python",
   "name": "python",
   "nbconvert_exporter": "python",
   "pygments_lexer": "ipython3",
   "version": "3.11.9"
  }
 },
 "nbformat": 4,
 "nbformat_minor": 2
}
